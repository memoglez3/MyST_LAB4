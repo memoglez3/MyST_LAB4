{
 "cells": [
  {
   "attachments": {},
   "cell_type": "markdown",
   "metadata": {},
   "source": [
    " ![](ITESO.png)"
   ]
  },
  {
   "attachments": {},
   "cell_type": "markdown",
   "metadata": {},
   "source": [
    "<center><font color=#555555><font size=6> MAF1731 - Microstructure and Trading Systems </font> <br> <br>\n",
    "\n",
    "<center><font color=#555555><font size=6> María Fernanada Amador Alvarez Guillermo González Gutierrez </font> <br> <br>\n",
    "   \n",
    "<center> <font color= #555555> <font size = 4> Marzo 2023 </a> | <font color= #555555> <font size = 4> Repository: <a href='https://github.com/memoglez3/MyST_LAB4'>Link</a></font>"
   ]
  },
  {
   "attachments": {},
   "cell_type": "markdown",
   "metadata": {},
   "source": [
    "## Módulo 4"
   ]
  },
  {
   "attachments": {},
   "cell_type": "markdown",
   "metadata": {},
   "source": [
    "Microestructura del mercado"
   ]
  },
  {
   "attachments": {},
   "cell_type": "markdown",
   "metadata": {},
   "source": [
    "## 1. Introducción. "
   ]
  },
  {
   "attachments": {},
   "cell_type": "markdown",
   "metadata": {},
   "source": [
    "En este laboratorio usaremos información del Libro de Ordenes de Criptomonedas de diversos exchanges internacionales, con el objetivo primario de visualizar y modelar la microestructura del mercado por medio del comportamiento de Libro de Ordenes y sus caracteristicas como; Matching Engine, Levels, Ask-Bid Volumnes, etc. \n",
    "\n",
    "El modelo de Roll, el cual se enfoca en la microestructura de la dinámica del precio de un activo financiero en horizontes de tiempo en minutos o segundos. El modelo distingue entre las componentes del precio debido al valor fundamental del activo financiero y a aquellas atribuibles a la organización del mercado y procesos de trading. El modelo tiene dos parámetros, C y σ2u, que pueden ser estimados con la información de la varianza y autocovarianza de primer orden del cambio de los precios 4Pt. Se presentan las ecuaciones del modelo para modelar el valor fundamental del activo financiero y para modelar el precio de transacción del mismo activo, y se muestran los cálculos para la diferencia de precios 4Pt, la diferencia de precios 4Pt-1, la multiplicación de las diferencias de precios (4Pt4Pt-1), la varianza de 4Pt, y la covarianza de 4Pt-1 y 4Pt. Los parámetros finales del modelo de Roll se despejan en términos de γ0 y γ1, y quedan expresados como: γ0 = 2C2 + σ2u, σ2u = γ0 - 2C2, γ1 = -C2, y C = -√γ1.\n",
    "\n",
    "Mientras que la Teoría de Valuación de activos como marco para modelar el precio de un activo financiero riesgoso como un flujo de pagos. Se presenta un modelo simple de utilidad a un período futuro para expresar el valor en el tiempo t de un pago x en t+1. Se utiliza la función de utilidad y se plantea el problema de optimización de la función de utilidad del agente respecto al número de acciones a consumir con restricciones para ct y ct+1. Se obtiene la ecuación que representa el precio del activo riesgoso, Pt, como un proceso estocástico particular, una martingala. Se concluye que el precio del activo riesgoso puede ser modelado como un flujo de pagos."
   ]
  },
  {
   "attachments": {},
   "cell_type": "markdown",
   "metadata": {},
   "source": [
    "### 1.1 Objetivos:\n",
    "\n",
    "Visualización de microestructuras con libros de órdenes de exchanges que contengan:\n",
    "\n",
    "- Levels\n",
    "- Bid Volume\n",
    "- Ask Volume\n",
    "- Total Value\n",
    "- Mid Price\n",
    "- VWAP"
   ]
  },
  {
   "attachments": {},
   "cell_type": "markdown",
   "metadata": {},
   "source": [
    "## 2. Install/Load Packages and Dependencies"
   ]
  },
  {
   "cell_type": "code",
   "execution_count": 2,
   "metadata": {},
   "outputs": [],
   "source": [
    "import functions as fn\n",
    "import data as dt\n",
    "import visualizations\n",
    "import pandas as pd\n",
    "import numpy as np\n",
    "import ccxt"
   ]
  },
  {
   "attachments": {},
   "cell_type": "markdown",
   "metadata": {},
   "source": [
    "### 2.1 Files Dependencies"
   ]
  },
  {
   "attachments": {},
   "cell_type": "markdown",
   "metadata": {},
   "source": [
    "Utilizar el módulo CCXT en python para consumir  el libro de ordenes de los activos necesarios por cada uno de los exchanges especificados"
   ]
  },
  {
   "attachments": {},
   "cell_type": "markdown",
   "metadata": {},
   "source": [
    "Ordenes de libros guardados en csv:\n",
    "\n",
    "Orderbooks1: \n",
    "\n",
    "    - kucoin, bittrex, bitfinex (ETH/BTC)\n",
    "\n",
    "Orderbooks2:\n",
    "\n",
    "    - kucoin, bittrex, bitfinex (BTC/USDT)"
   ]
  },
  {
   "attachments": {},
   "cell_type": "markdown",
   "metadata": {},
   "source": [
    "## 3. Data Visualization"
   ]
  },
  {
   "cell_type": "code",
   "execution_count": null,
   "metadata": {},
   "outputs": [],
   "source": []
  },
  {
   "cell_type": "code",
   "execution_count": null,
   "metadata": {},
   "outputs": [],
   "source": []
  },
  {
   "attachments": {},
   "cell_type": "markdown",
   "metadata": {},
   "source": [
    "## 4. Visualization"
   ]
  },
  {
   "cell_type": "code",
   "execution_count": null,
   "metadata": {},
   "outputs": [],
   "source": []
  },
  {
   "attachments": {},
   "cell_type": "markdown",
   "metadata": {},
   "source": [
    "## 5. Modelado de Microestructura"
   ]
  },
  {
   "cell_type": "code",
   "execution_count": null,
   "metadata": {},
   "outputs": [],
   "source": []
  },
  {
   "attachments": {},
   "cell_type": "markdown",
   "metadata": {},
   "source": [
    "## 6. Conclusiones"
   ]
  },
  {
   "cell_type": "code",
   "execution_count": null,
   "metadata": {},
   "outputs": [],
   "source": []
  },
  {
   "attachments": {},
   "cell_type": "markdown",
   "metadata": {},
   "source": [
    "## 7. Fuentes"
   ]
  },
  {
   "attachments": {},
   "cell_type": "markdown",
   "metadata": {},
   "source": [
    "* Valencia, D. C., Ruiz, N. R., & Arias, A. V. (2018). Microestructura de mercados como determinante de la tasa de cambio: Seguimiento Bibliométrico. Revista Venezolana de Gerencia, 23(81), 202-216."
   ]
  },
  {
   "cell_type": "code",
   "execution_count": null,
   "metadata": {},
   "outputs": [],
   "source": []
  },
  {
   "cell_type": "markdown",
   "metadata": {},
   "source": []
  }
 ],
 "metadata": {
  "kernelspec": {
   "display_name": "pythonProject1",
   "language": "python",
   "name": "python3"
  },
  "language_info": {
   "codemirror_mode": {
    "name": "ipython",
    "version": 3
   },
   "file_extension": ".py",
   "mimetype": "text/x-python",
   "name": "python",
   "nbconvert_exporter": "python",
   "pygments_lexer": "ipython3",
   "version": "3.9.12"
  },
  "orig_nbformat": 4
 },
 "nbformat": 4,
 "nbformat_minor": 2
}
