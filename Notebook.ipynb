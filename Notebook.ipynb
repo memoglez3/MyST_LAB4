{
 "cells": [
  {
   "attachments": {},
   "cell_type": "markdown",
   "metadata": {},
   "source": [
    " <p align = 'center'>\n",
    " <img src = 'ITESO.png' width = '900' height = '250'/>\n",
    " </p>"
   ]
  },
  {
   "attachments": {},
   "cell_type": "markdown",
   "metadata": {},
   "source": [
    "<center><font color=#555555><font size=6> MAF1731 - Microstructure and Trading Systems </font> <br> <br>\n",
    "\n",
    "<center><font color=#555555><font size=6> María Fernanada Amador Alvarez \n",
    "\n",
    "Guillermo González Gutierrez </font> <br> <br>\n",
    "   \n",
    "<center> <font color= #555555> <font size = 4> Marzo 2023 </a> | <font color= #555555> <font size = 4> Repository: <a href='https://github.com/memoglez3/MyST_LAB4'>Link</a></font>"
   ]
  },
  {
   "attachments": {},
   "cell_type": "markdown",
   "metadata": {},
   "source": [
    "## Módulo 4"
   ]
  },
  {
   "attachments": {},
   "cell_type": "markdown",
   "metadata": {},
   "source": [
    "Microestructura del mercado"
   ]
  },
  {
   "attachments": {},
   "cell_type": "markdown",
   "metadata": {},
   "source": [
    "## 1. Introducción. "
   ]
  },
  {
   "attachments": {},
   "cell_type": "markdown",
   "metadata": {},
   "source": [
    "En este laboratorio usaremos información del Libro de Ordenes de Criptomonedas de diversos exchanges internacionales, con el objetivo primario de visualizar y modelar la microestructura del mercado por medio del comportamiento de Libro de Ordenes y sus caracteristicas como; Matching Engine, Levels, Ask-Bid Volumnes, etc. \n",
    "\n",
    "El modelo de Roll, el cual se enfoca en la microestructura de la dinámica del precio de un activo financiero en horizontes de tiempo en minutos o segundos. El modelo distingue entre las componentes del precio debido al valor fundamental del activo financiero y a aquellas atribuibles a la organización del mercado y procesos de trading. El modelo tiene dos parámetros, C y σ2u, que pueden ser estimados con la información de la varianza y autocovarianza de primer orden del cambio de los precios 4Pt. Se presentan las ecuaciones del modelo para modelar el valor fundamental del activo financiero y para modelar el precio de transacción del mismo activo, y se muestran los cálculos para la diferencia de precios 4Pt, la diferencia de precios 4Pt-1, la multiplicación de las diferencias de precios (4Pt4Pt-1), la varianza de 4Pt, y la covarianza de 4Pt-1 y 4Pt. Los parámetros finales del modelo de Roll se despejan en términos de γ0 y γ1, y quedan expresados como: γ0 = 2C2 + σ2u, σ2u = γ0 - 2C2, γ1 = -C2, y C = -√γ1.\n",
    "\n",
    "Mientras que la Teoría de Valuación de activos como marco para modelar el precio de un activo financiero riesgoso como un flujo de pagos. Se presenta un modelo simple de utilidad a un período futuro para expresar el valor en el tiempo t de un pago x en t+1. Se utiliza la función de utilidad y se plantea el problema de optimización de la función de utilidad del agente respecto al número de acciones a consumir con restricciones para ct y ct+1. Se obtiene la ecuación que representa el precio del activo riesgoso, Pt, como un proceso estocástico particular, una martingala. Se concluye que el precio del activo riesgoso puede ser modelado como un flujo de pagos."
   ]
  },
  {
   "attachments": {},
   "cell_type": "markdown",
   "metadata": {},
   "source": [
    "### 1.1 Objetivos:\n",
    "\n",
    "Visualización de microestructuras con libros de órdenes de exchanges que contengan:\n",
    "\n",
    "- Levels\n",
    "- Bid Volume\n",
    "- Ask Volume\n",
    "- Total Value\n",
    "- Mid Price\n",
    "- VWAP"
   ]
  },
  {
   "attachments": {},
   "cell_type": "markdown",
   "metadata": {},
   "source": [
    "## 2. Install/Load Packages and Dependencies"
   ]
  },
  {
   "cell_type": "code",
   "execution_count": 3,
   "metadata": {},
   "outputs": [],
   "source": [
    "import functions as fn\n",
    "import data as dt\n",
    "import visualizations\n",
    "import pandas as pd\n",
    "import numpy as np\n",
    "import ccxt\n",
    "import plotly.io as pio"
   ]
  },
  {
   "attachments": {},
   "cell_type": "markdown",
   "metadata": {},
   "source": [
    "### 2.1 Files Dependencies"
   ]
  },
  {
   "attachments": {},
   "cell_type": "markdown",
   "metadata": {},
   "source": [
    "Utilizar el módulo CCXT en python para consumir  el libro de ordenes de los activos necesarios por cada uno de los exchanges especificados"
   ]
  },
  {
   "attachments": {},
   "cell_type": "markdown",
   "metadata": {},
   "source": [
    "Ordenes de libros guardados en csv:\n",
    "\n",
    "Orderbooks1: \n",
    "\n",
    "    - kucoin, bittrex, bitfinex (ETH/BTC)\n",
    "\n",
    "Orderbooks2:\n",
    "\n",
    "    - kucoin, bittrex, bitfinex (BTC/USDT)"
   ]
  },
  {
   "attachments": {},
   "cell_type": "markdown",
   "metadata": {},
   "source": [
    "## 3. Data Visualization"
   ]
  },
  {
   "cell_type": "code",
   "execution_count": 9,
   "metadata": {},
   "outputs": [
    {
     "data": {
      "text/html": [
       "<div>\n",
       "<style scoped>\n",
       "    .dataframe tbody tr th:only-of-type {\n",
       "        vertical-align: middle;\n",
       "    }\n",
       "\n",
       "    .dataframe tbody tr th {\n",
       "        vertical-align: top;\n",
       "    }\n",
       "\n",
       "    .dataframe thead th {\n",
       "        text-align: right;\n",
       "    }\n",
       "</style>\n",
       "<table border=\"1\" class=\"dataframe\">\n",
       "  <thead>\n",
       "    <tr style=\"text-align: right;\">\n",
       "      <th></th>\n",
       "      <th>exchange</th>\n",
       "      <th>datetime</th>\n",
       "      <th>orderbook</th>\n",
       "    </tr>\n",
       "  </thead>\n",
       "  <tbody>\n",
       "    <tr>\n",
       "      <th>0</th>\n",
       "      <td>kucoin</td>\n",
       "      <td>2023-04-24T17:04:02.574Z</td>\n",
       "      <td>{'ask_size': [1.0874998, 0.3672999, 1.5, 1.5, ...</td>\n",
       "    </tr>\n",
       "    <tr>\n",
       "      <th>1</th>\n",
       "      <td>kucoin</td>\n",
       "      <td>2023-04-24T17:04:02.920Z</td>\n",
       "      <td>{'ask_size': [1.0874998, 0.3672999, 1.5, 1.5, ...</td>\n",
       "    </tr>\n",
       "    <tr>\n",
       "      <th>2</th>\n",
       "      <td>kucoin</td>\n",
       "      <td>2023-04-24T17:04:03.197Z</td>\n",
       "      <td>{'ask_size': [1.0874998, 0.3672999, 1.5, 1.5, ...</td>\n",
       "    </tr>\n",
       "    <tr>\n",
       "      <th>3</th>\n",
       "      <td>kucoin</td>\n",
       "      <td>2023-04-24T17:04:03.541Z</td>\n",
       "      <td>{'ask_size': [1.0874998, 1.8672999, 0.6, 1.5, ...</td>\n",
       "    </tr>\n",
       "    <tr>\n",
       "      <th>4</th>\n",
       "      <td>kucoin</td>\n",
       "      <td>2023-04-24T17:04:03.816Z</td>\n",
       "      <td>{'ask_size': [1.0874998, 0.3672999, 1.5, 0.6, ...</td>\n",
       "    </tr>\n",
       "    <tr>\n",
       "      <th>...</th>\n",
       "      <td>...</td>\n",
       "      <td>...</td>\n",
       "      <td>...</td>\n",
       "    </tr>\n",
       "    <tr>\n",
       "      <th>18522</th>\n",
       "      <td>bitfinex</td>\n",
       "      <td>2023-04-24T18:03:56.345Z</td>\n",
       "      <td>{'ask_size': [0.5, 1.31704302, 0.5, 1.22561471...</td>\n",
       "    </tr>\n",
       "    <tr>\n",
       "      <th>18523</th>\n",
       "      <td>bitfinex</td>\n",
       "      <td>2023-04-24T18:03:57.136Z</td>\n",
       "      <td>{'ask_size': [0.5, 1.31704302, 0.5, 1.22561471...</td>\n",
       "    </tr>\n",
       "    <tr>\n",
       "      <th>18524</th>\n",
       "      <td>bitfinex</td>\n",
       "      <td>2023-04-24T18:03:57.832Z</td>\n",
       "      <td>{'ask_size': [0.5, 1.31704302, 0.5, 1.22561471...</td>\n",
       "    </tr>\n",
       "    <tr>\n",
       "      <th>18525</th>\n",
       "      <td>bitfinex</td>\n",
       "      <td>2023-04-24T18:03:59.032Z</td>\n",
       "      <td>{'ask_size': [3.82768498, 0.5, 1.31704302, 3.8...</td>\n",
       "    </tr>\n",
       "    <tr>\n",
       "      <th>18526</th>\n",
       "      <td>bitfinex</td>\n",
       "      <td>2023-04-24T18:03:59.723Z</td>\n",
       "      <td>{'ask_size': [3.82768498, 0.5, 1.31704302, 3.8...</td>\n",
       "    </tr>\n",
       "  </tbody>\n",
       "</table>\n",
       "<p>18527 rows × 3 columns</p>\n",
       "</div>"
      ],
      "text/plain": [
       "       exchange                  datetime  \\\n",
       "0        kucoin  2023-04-24T17:04:02.574Z   \n",
       "1        kucoin  2023-04-24T17:04:02.920Z   \n",
       "2        kucoin  2023-04-24T17:04:03.197Z   \n",
       "3        kucoin  2023-04-24T17:04:03.541Z   \n",
       "4        kucoin  2023-04-24T17:04:03.816Z   \n",
       "...         ...                       ...   \n",
       "18522  bitfinex  2023-04-24T18:03:56.345Z   \n",
       "18523  bitfinex  2023-04-24T18:03:57.136Z   \n",
       "18524  bitfinex  2023-04-24T18:03:57.832Z   \n",
       "18525  bitfinex  2023-04-24T18:03:59.032Z   \n",
       "18526  bitfinex  2023-04-24T18:03:59.723Z   \n",
       "\n",
       "                                               orderbook  \n",
       "0      {'ask_size': [1.0874998, 0.3672999, 1.5, 1.5, ...  \n",
       "1      {'ask_size': [1.0874998, 0.3672999, 1.5, 1.5, ...  \n",
       "2      {'ask_size': [1.0874998, 0.3672999, 1.5, 1.5, ...  \n",
       "3      {'ask_size': [1.0874998, 1.8672999, 0.6, 1.5, ...  \n",
       "4      {'ask_size': [1.0874998, 0.3672999, 1.5, 0.6, ...  \n",
       "...                                                  ...  \n",
       "18522  {'ask_size': [0.5, 1.31704302, 0.5, 1.22561471...  \n",
       "18523  {'ask_size': [0.5, 1.31704302, 0.5, 1.22561471...  \n",
       "18524  {'ask_size': [0.5, 1.31704302, 0.5, 1.22561471...  \n",
       "18525  {'ask_size': [3.82768498, 0.5, 1.31704302, 3.8...  \n",
       "18526  {'ask_size': [3.82768498, 0.5, 1.31704302, 3.8...  \n",
       "\n",
       "[18527 rows x 3 columns]"
      ]
     },
     "execution_count": 9,
     "metadata": {},
     "output_type": "execute_result"
    }
   ],
   "source": [
    "# (ETH/BTC)\n",
    "files_eth = pd.read_csv('files/orderbooks1.csv')\n",
    "files_eth"
   ]
  },
  {
   "cell_type": "code",
   "execution_count": 10,
   "metadata": {},
   "outputs": [
    {
     "data": {
      "text/html": [
       "<div>\n",
       "<style scoped>\n",
       "    .dataframe tbody tr th:only-of-type {\n",
       "        vertical-align: middle;\n",
       "    }\n",
       "\n",
       "    .dataframe tbody tr th {\n",
       "        vertical-align: top;\n",
       "    }\n",
       "\n",
       "    .dataframe thead th {\n",
       "        text-align: right;\n",
       "    }\n",
       "</style>\n",
       "<table border=\"1\" class=\"dataframe\">\n",
       "  <thead>\n",
       "    <tr style=\"text-align: right;\">\n",
       "      <th></th>\n",
       "      <th>exchange</th>\n",
       "      <th>datetime</th>\n",
       "      <th>orderbook</th>\n",
       "    </tr>\n",
       "  </thead>\n",
       "  <tbody>\n",
       "    <tr>\n",
       "      <th>0</th>\n",
       "      <td>kucoin</td>\n",
       "      <td>2023-04-24T18:04:05.442Z</td>\n",
       "      <td>{'ask_size': [1.76519273, 0.05477487, 0.101045...</td>\n",
       "    </tr>\n",
       "    <tr>\n",
       "      <th>1</th>\n",
       "      <td>kucoin</td>\n",
       "      <td>2023-04-24T18:04:05.719Z</td>\n",
       "      <td>{'ask_size': [1.76519273, 0.05477487, 0.101045...</td>\n",
       "    </tr>\n",
       "    <tr>\n",
       "      <th>2</th>\n",
       "      <td>kucoin</td>\n",
       "      <td>2023-04-24T18:04:05.998Z</td>\n",
       "      <td>{'ask_size': [1.76369245, 0.05477487, 0.101045...</td>\n",
       "    </tr>\n",
       "    <tr>\n",
       "      <th>3</th>\n",
       "      <td>kucoin</td>\n",
       "      <td>2023-04-24T18:04:06.371Z</td>\n",
       "      <td>{'ask_size': [2.32371788, 0.07302856, 0.101045...</td>\n",
       "    </tr>\n",
       "    <tr>\n",
       "      <th>4</th>\n",
       "      <td>kucoin</td>\n",
       "      <td>2023-04-24T18:04:06.671Z</td>\n",
       "      <td>{'ask_size': [2.32487898, 0.07302856, 0.101045...</td>\n",
       "    </tr>\n",
       "    <tr>\n",
       "      <th>...</th>\n",
       "      <td>...</td>\n",
       "      <td>...</td>\n",
       "      <td>...</td>\n",
       "    </tr>\n",
       "    <tr>\n",
       "      <th>18603</th>\n",
       "      <td>bitfinex</td>\n",
       "      <td>2023-04-24T19:04:00.224Z</td>\n",
       "      <td>{'ask_size': [0.128048, 0.0887, 0.06, 0.128035...</td>\n",
       "    </tr>\n",
       "    <tr>\n",
       "      <th>18604</th>\n",
       "      <td>bitfinex</td>\n",
       "      <td>2023-04-24T19:04:00.922Z</td>\n",
       "      <td>{'ask_size': [0.128048, 0.0887, 0.06, 0.128035...</td>\n",
       "    </tr>\n",
       "    <tr>\n",
       "      <th>18605</th>\n",
       "      <td>bitfinex</td>\n",
       "      <td>2023-04-24T19:04:02.094Z</td>\n",
       "      <td>{'ask_size': [0.128048, 0.227238, 0.18728997, ...</td>\n",
       "    </tr>\n",
       "    <tr>\n",
       "      <th>18606</th>\n",
       "      <td>bitfinex</td>\n",
       "      <td>2023-04-24T19:04:02.800Z</td>\n",
       "      <td>{'ask_size': [0.128048, 0.227238, 0.18728997, ...</td>\n",
       "    </tr>\n",
       "    <tr>\n",
       "      <th>18607</th>\n",
       "      <td>bitfinex</td>\n",
       "      <td>2023-04-24T19:04:03.536Z</td>\n",
       "      <td>{'ask_size': [0.128048, 0.227238, 0.18728997, ...</td>\n",
       "    </tr>\n",
       "  </tbody>\n",
       "</table>\n",
       "<p>18608 rows × 3 columns</p>\n",
       "</div>"
      ],
      "text/plain": [
       "       exchange                  datetime  \\\n",
       "0        kucoin  2023-04-24T18:04:05.442Z   \n",
       "1        kucoin  2023-04-24T18:04:05.719Z   \n",
       "2        kucoin  2023-04-24T18:04:05.998Z   \n",
       "3        kucoin  2023-04-24T18:04:06.371Z   \n",
       "4        kucoin  2023-04-24T18:04:06.671Z   \n",
       "...         ...                       ...   \n",
       "18603  bitfinex  2023-04-24T19:04:00.224Z   \n",
       "18604  bitfinex  2023-04-24T19:04:00.922Z   \n",
       "18605  bitfinex  2023-04-24T19:04:02.094Z   \n",
       "18606  bitfinex  2023-04-24T19:04:02.800Z   \n",
       "18607  bitfinex  2023-04-24T19:04:03.536Z   \n",
       "\n",
       "                                               orderbook  \n",
       "0      {'ask_size': [1.76519273, 0.05477487, 0.101045...  \n",
       "1      {'ask_size': [1.76519273, 0.05477487, 0.101045...  \n",
       "2      {'ask_size': [1.76369245, 0.05477487, 0.101045...  \n",
       "3      {'ask_size': [2.32371788, 0.07302856, 0.101045...  \n",
       "4      {'ask_size': [2.32487898, 0.07302856, 0.101045...  \n",
       "...                                                  ...  \n",
       "18603  {'ask_size': [0.128048, 0.0887, 0.06, 0.128035...  \n",
       "18604  {'ask_size': [0.128048, 0.0887, 0.06, 0.128035...  \n",
       "18605  {'ask_size': [0.128048, 0.227238, 0.18728997, ...  \n",
       "18606  {'ask_size': [0.128048, 0.227238, 0.18728997, ...  \n",
       "18607  {'ask_size': [0.128048, 0.227238, 0.18728997, ...  \n",
       "\n",
       "[18608 rows x 3 columns]"
      ]
     },
     "execution_count": 10,
     "metadata": {},
     "output_type": "execute_result"
    }
   ],
   "source": [
    "# (BTC/USDT)\n",
    "files_btc = pd.read_csv('files/orderbooks2.csv')\n",
    "files_btc"
   ]
  },
  {
   "attachments": {},
   "cell_type": "markdown",
   "metadata": {},
   "source": [
    "## 4. Visualization"
   ]
  },
  {
   "cell_type": "code",
   "execution_count": null,
   "metadata": {},
   "outputs": [],
   "source": []
  },
  {
   "cell_type": "code",
   "execution_count": null,
   "metadata": {},
   "outputs": [],
   "source": []
  },
  {
   "cell_type": "code",
   "execution_count": null,
   "metadata": {},
   "outputs": [],
   "source": []
  },
  {
   "attachments": {},
   "cell_type": "markdown",
   "metadata": {},
   "source": [
    "## 5. Modelado de Microestructura"
   ]
  },
  {
   "cell_type": "code",
   "execution_count": null,
   "metadata": {},
   "outputs": [],
   "source": []
  },
  {
   "attachments": {},
   "cell_type": "markdown",
   "metadata": {},
   "source": [
    "## 6. Conclusiones"
   ]
  },
  {
   "cell_type": "code",
   "execution_count": null,
   "metadata": {},
   "outputs": [],
   "source": []
  },
  {
   "attachments": {},
   "cell_type": "markdown",
   "metadata": {},
   "source": [
    "## 7. Fuentes"
   ]
  },
  {
   "attachments": {},
   "cell_type": "markdown",
   "metadata": {},
   "source": [
    "* Valencia, D. C., Ruiz, N. R., & Arias, A. V. (2018). Microestructura de mercados como determinante de la tasa de cambio: Seguimiento Bibliométrico. Revista Venezolana de Gerencia, 23(81), 202-216."
   ]
  }
 ],
 "metadata": {
  "kernelspec": {
   "display_name": "pythonProject1",
   "language": "python",
   "name": "python3"
  },
  "language_info": {
   "codemirror_mode": {
    "name": "ipython",
    "version": 3
   },
   "file_extension": ".py",
   "mimetype": "text/x-python",
   "name": "python",
   "nbconvert_exporter": "python",
   "pygments_lexer": "ipython3",
   "version": "3.9.12"
  },
  "orig_nbformat": 4
 },
 "nbformat": 4,
 "nbformat_minor": 2
}
